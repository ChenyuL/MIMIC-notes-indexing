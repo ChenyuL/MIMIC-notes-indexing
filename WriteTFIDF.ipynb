{
 "cells": [
  {
   "cell_type": "code",
   "execution_count": 1,
   "id": "dc0f8984",
   "metadata": {},
   "outputs": [],
   "source": [
    "import pandas as pd \n",
    "from sklearn.feature_extraction.text import TfidfVectorizer"
   ]
  },
  {
   "cell_type": "code",
   "execution_count": 3,
   "id": "363b0bce",
   "metadata": {},
   "outputs": [],
   "source": [
    "with open (\"./data/V2result.mimic\") as f:\n",
    "    content = []\n",
    "    Ids = []\n",
    "    DocDict = {}\n",
    "#     for line in f:\n",
    "    while True:\n",
    "        thisID = f.readline().replace('\\n', '')\n",
    "#         print(\"thisID\", thisID)\n",
    "        thisContent = f.readline().replace('\\n', '')\n",
    "#         print(\"thisContent\", thisContent)\n",
    "        content.append(thisContent)\n",
    "        Ids.append(thisID)\n",
    "        DocDict.update({thisID:thisContent})\n",
    "        if not thisID:\n",
    "            break\n",
    "f.close()"
   ]
  },
  {
   "cell_type": "code",
   "execution_count": 4,
   "id": "1734e21d",
   "metadata": {},
   "outputs": [
    {
     "data": {
      "text/plain": [
       "55178"
      ]
     },
     "execution_count": 4,
     "metadata": {},
     "output_type": "execute_result"
    }
   ],
   "source": [
    "len(DocDict)"
   ]
  },
  {
   "cell_type": "code",
   "execution_count": 5,
   "id": "4eb101c6",
   "metadata": {
    "scrolled": false
   },
   "outputs": [],
   "source": [
    "# content"
   ]
  },
  {
   "cell_type": "code",
   "execution_count": 16,
   "id": "b7a0ceb7",
   "metadata": {},
   "outputs": [],
   "source": [
    "vectorizer = TfidfVectorizer()"
   ]
  },
  {
   "cell_type": "code",
   "execution_count": 2,
   "id": "aecc38de",
   "metadata": {},
   "outputs": [],
   "source": [
    "\n",
    "with open('./corpusV2.txt', 'r') as f:\n",
    "    corpus = f.readlines()\n"
   ]
  },
  {
   "cell_type": "code",
   "execution_count": 17,
   "id": "7bf005f4",
   "metadata": {},
   "outputs": [],
   "source": [
    "X = vectorizer.fit_transform(content) # check the input, it was corpus before"
   ]
  },
  {
   "cell_type": "code",
   "execution_count": 10,
   "id": "d1ba98f7",
   "metadata": {},
   "outputs": [
    {
     "data": {
      "text/plain": [
       "187387"
      ]
     },
     "execution_count": 10,
     "metadata": {},
     "output_type": "execute_result"
    }
   ],
   "source": [
    "len(vectorizer.get_feature_names_out())"
   ]
  },
  {
   "cell_type": "code",
   "execution_count": 11,
   "id": "d0e78b0b",
   "metadata": {},
   "outputs": [
    {
     "name": "stdout",
     "output_type": "stream",
     "text": [
      "['aa' 'aaa' 'aaaabd' ... 'zyvox' 'zyvoxciprox' 'zyvoxx']\n"
     ]
    }
   ],
   "source": [
    "print(vectorizer.get_feature_names_out())"
   ]
  },
  {
   "cell_type": "code",
   "execution_count": 15,
   "id": "0c81c04a",
   "metadata": {},
   "outputs": [
    {
     "data": {
      "text/html": [
       "<style>#sk-container-id-1 {color: black;background-color: white;}#sk-container-id-1 pre{padding: 0;}#sk-container-id-1 div.sk-toggleable {background-color: white;}#sk-container-id-1 label.sk-toggleable__label {cursor: pointer;display: block;width: 100%;margin-bottom: 0;padding: 0.3em;box-sizing: border-box;text-align: center;}#sk-container-id-1 label.sk-toggleable__label-arrow:before {content: \"▸\";float: left;margin-right: 0.25em;color: #696969;}#sk-container-id-1 label.sk-toggleable__label-arrow:hover:before {color: black;}#sk-container-id-1 div.sk-estimator:hover label.sk-toggleable__label-arrow:before {color: black;}#sk-container-id-1 div.sk-toggleable__content {max-height: 0;max-width: 0;overflow: hidden;text-align: left;background-color: #f0f8ff;}#sk-container-id-1 div.sk-toggleable__content pre {margin: 0.2em;color: black;border-radius: 0.25em;background-color: #f0f8ff;}#sk-container-id-1 input.sk-toggleable__control:checked~div.sk-toggleable__content {max-height: 200px;max-width: 100%;overflow: auto;}#sk-container-id-1 input.sk-toggleable__control:checked~label.sk-toggleable__label-arrow:before {content: \"▾\";}#sk-container-id-1 div.sk-estimator input.sk-toggleable__control:checked~label.sk-toggleable__label {background-color: #d4ebff;}#sk-container-id-1 div.sk-label input.sk-toggleable__control:checked~label.sk-toggleable__label {background-color: #d4ebff;}#sk-container-id-1 input.sk-hidden--visually {border: 0;clip: rect(1px 1px 1px 1px);clip: rect(1px, 1px, 1px, 1px);height: 1px;margin: -1px;overflow: hidden;padding: 0;position: absolute;width: 1px;}#sk-container-id-1 div.sk-estimator {font-family: monospace;background-color: #f0f8ff;border: 1px dotted black;border-radius: 0.25em;box-sizing: border-box;margin-bottom: 0.5em;}#sk-container-id-1 div.sk-estimator:hover {background-color: #d4ebff;}#sk-container-id-1 div.sk-parallel-item::after {content: \"\";width: 100%;border-bottom: 1px solid gray;flex-grow: 1;}#sk-container-id-1 div.sk-label:hover label.sk-toggleable__label {background-color: #d4ebff;}#sk-container-id-1 div.sk-serial::before {content: \"\";position: absolute;border-left: 1px solid gray;box-sizing: border-box;top: 0;bottom: 0;left: 50%;z-index: 0;}#sk-container-id-1 div.sk-serial {display: flex;flex-direction: column;align-items: center;background-color: white;padding-right: 0.2em;padding-left: 0.2em;position: relative;}#sk-container-id-1 div.sk-item {position: relative;z-index: 1;}#sk-container-id-1 div.sk-parallel {display: flex;align-items: stretch;justify-content: center;background-color: white;position: relative;}#sk-container-id-1 div.sk-item::before, #sk-container-id-1 div.sk-parallel-item::before {content: \"\";position: absolute;border-left: 1px solid gray;box-sizing: border-box;top: 0;bottom: 0;left: 50%;z-index: -1;}#sk-container-id-1 div.sk-parallel-item {display: flex;flex-direction: column;z-index: 1;position: relative;background-color: white;}#sk-container-id-1 div.sk-parallel-item:first-child::after {align-self: flex-end;width: 50%;}#sk-container-id-1 div.sk-parallel-item:last-child::after {align-self: flex-start;width: 50%;}#sk-container-id-1 div.sk-parallel-item:only-child::after {width: 0;}#sk-container-id-1 div.sk-dashed-wrapped {border: 1px dashed gray;margin: 0 0.4em 0.5em 0.4em;box-sizing: border-box;padding-bottom: 0.4em;background-color: white;}#sk-container-id-1 div.sk-label label {font-family: monospace;font-weight: bold;display: inline-block;line-height: 1.2em;}#sk-container-id-1 div.sk-label-container {text-align: center;}#sk-container-id-1 div.sk-container {/* jupyter's `normalize.less` sets `[hidden] { display: none; }` but bootstrap.min.css set `[hidden] { display: none !important; }` so we also need the `!important` here to be able to override the default hidden behavior on the sphinx rendered scikit-learn.org. See: https://github.com/scikit-learn/scikit-learn/issues/21755 */display: inline-block !important;position: relative;}#sk-container-id-1 div.sk-text-repr-fallback {display: none;}</style><div id=\"sk-container-id-1\" class=\"sk-top-container\"><div class=\"sk-text-repr-fallback\"><pre>TfidfVectorizer()</pre><b>In a Jupyter environment, please rerun this cell to show the HTML representation or trust the notebook. <br />On GitHub, the HTML representation is unable to render, please try loading this page with nbviewer.org.</b></div><div class=\"sk-container\" hidden><div class=\"sk-item\"><div class=\"sk-estimator sk-toggleable\"><input class=\"sk-toggleable__control sk-hidden--visually\" id=\"sk-estimator-id-1\" type=\"checkbox\" checked><label for=\"sk-estimator-id-1\" class=\"sk-toggleable__label sk-toggleable__label-arrow\">TfidfVectorizer</label><div class=\"sk-toggleable__content\"><pre>TfidfVectorizer()</pre></div></div></div></div></div>"
      ],
      "text/plain": [
       "TfidfVectorizer()"
      ]
     },
     "execution_count": 15,
     "metadata": {},
     "output_type": "execute_result"
    }
   ],
   "source": [
    "vectorizer"
   ]
  },
  {
   "cell_type": "code",
   "execution_count": 18,
   "id": "df51fdb6",
   "metadata": {},
   "outputs": [],
   "source": [
    "import pickle\n",
    "f = open(\"TFIDF_vectorizer.pkl\",\"wb\")\n",
    "pickle.dump(vectorizer,f)\n",
    "f.close()"
   ]
  },
  {
   "cell_type": "code",
   "execution_count": 13,
   "id": "d9a4e3af",
   "metadata": {},
   "outputs": [
    {
     "name": "stderr",
     "output_type": "stream",
     "text": [
      "/Users/chenyuli/opt/anaconda3/lib/python3.9/site-packages/sklearn/utils/deprecation.py:87: FutureWarning: Function get_feature_names is deprecated; get_feature_names is deprecated in 1.0 and will be removed in 1.2. Please use get_feature_names_out instead.\n",
      "  warnings.warn(msg, category=FutureWarning)\n"
     ]
    }
   ],
   "source": [
    "from sklearn.feature_extraction.text import TfidfVectorizer\n",
    "\n",
    "tfidf = TfidfVectorizer(min_df=3)\n",
    "tfidf.fit(list(content))\n",
    "feature_names = tfidf.get_feature_names()"
   ]
  },
  {
   "cell_type": "code",
   "execution_count": 14,
   "id": "60b5616e",
   "metadata": {},
   "outputs": [
    {
     "data": {
      "text/plain": [
       "50144"
      ]
     },
     "execution_count": 14,
     "metadata": {},
     "output_type": "execute_result"
    }
   ],
   "source": [
    "len(feature_names)"
   ]
  },
  {
   "cell_type": "code",
   "execution_count": 18,
   "id": "5fae4beb",
   "metadata": {},
   "outputs": [],
   "source": [
    "feature_names = vectorizer.get_feature_names_out()"
   ]
  },
  {
   "cell_type": "code",
   "execution_count": 19,
   "id": "75df0663",
   "metadata": {},
   "outputs": [],
   "source": [
    "with open('corpus_all.txt', 'w') as f:\n",
    "    for line in feature_names:\n",
    "        f.write(f\"{line}\\n\")"
   ]
  },
  {
   "cell_type": "code",
   "execution_count": 20,
   "id": "61a075f5",
   "metadata": {},
   "outputs": [],
   "source": [
    "def get_ifidf_for_words(text):\n",
    "    tfidf_matrix= vectorizer.transform([text]).todense()\n",
    "    feature_index = tfidf_matrix[0,:].nonzero()[1]\n",
    "    tfidf_scores = zip([feature_names[i] for i in feature_index], [tfidf_matrix[0, x] for x in feature_index])\n",
    "    return dict(tfidf_scores)"
   ]
  },
  {
   "cell_type": "code",
   "execution_count": 100,
   "id": "3fee7cbe",
   "metadata": {},
   "outputs": [],
   "source": [
    "# DocDict"
   ]
  },
  {
   "cell_type": "code",
   "execution_count": 21,
   "id": "16a00daf",
   "metadata": {},
   "outputs": [],
   "source": [
    "import numpy as np\n",
    "DictTfIdf= {}\n",
    "zero_data = np.zeros(shape=(len(DocDict),2))\n",
    "dfTFIDF = pd.DataFrame(zero_data,columns = ['docID','TFIDF'])\n",
    "i = 0\n",
    "for key, value in DocDict.items():\n",
    "    thisDocID = key\n",
    "#     print(\"thisDocID\",thisDocID)\n",
    "    thisTFIDF = get_ifidf_for_words(value)\n",
    "\n",
    "    DictTfIdf.update({thisDocID:thisTFIDF})\n",
    "#     dfTFIDF[\"docID\"].iloc[i]=thisDocID\n",
    "#     dfTFIDF[\"TFIDF\"].iloc[i]=str(thisTFIDF\n",
    "#     i +=1"
   ]
  },
  {
   "cell_type": "code",
   "execution_count": 24,
   "id": "eff0eef6",
   "metadata": {},
   "outputs": [],
   "source": [
    "#pickle\n",
    "import pickle\n",
    "f = open(\"TFIDF_Dict_all.pkl\",\"wb\")\n",
    "pickle.dump(dict,f)\n",
    "f.close()"
   ]
  },
  {
   "cell_type": "raw",
   "id": "716111bb",
   "metadata": {},
   "source": [
    "DictTfIdf"
   ]
  },
  {
   "cell_type": "code",
   "execution_count": 25,
   "id": "e521fc56",
   "metadata": {},
   "outputs": [],
   "source": [
    "    \n",
    "with open(\"WriteTFIDF_all.txt\",\"w+\") as f:\n",
    "    for key, value in DictTfIdf.items():\n",
    "        # info = str(key)+\" \"+ value.items()\n",
    "        f.write(key+\" \")\n",
    "        f.write(' '.join([f'{token}:{tf_idf}' for token, tf_idf in value.items()]) + '\\n')\n"
   ]
  },
  {
   "cell_type": "code",
   "execution_count": null,
   "id": "49995b8c",
   "metadata": {},
   "outputs": [],
   "source": []
  }
 ],
 "metadata": {
  "kernelspec": {
   "display_name": "Python 3 (ipykernel)",
   "language": "python",
   "name": "python3"
  },
  "language_info": {
   "codemirror_mode": {
    "name": "ipython",
    "version": 3
   },
   "file_extension": ".py",
   "mimetype": "text/x-python",
   "name": "python",
   "nbconvert_exporter": "python",
   "pygments_lexer": "ipython3",
   "version": "3.9.7"
  }
 },
 "nbformat": 4,
 "nbformat_minor": 5
}
