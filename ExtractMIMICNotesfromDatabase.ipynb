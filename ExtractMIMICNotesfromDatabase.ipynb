{
 "cells": [
  {
   "cell_type": "code",
   "execution_count": 62,
   "id": "bad28a0e",
   "metadata": {},
   "outputs": [],
   "source": [
    "# Testing \n",
    "import psycopg2\n",
    "\n",
    "#  \\conninfo to get connection info from database\n",
    "connection = psycopg2.connect(database=\"mimic\",\n",
    "                        host=\"::1\",\n",
    "                        user=\"postgres\",\n",
    "                        password=\"05170029LCy\",\n",
    "                        port=\"5432\")"
   ]
  },
  {
   "cell_type": "code",
   "execution_count": 3,
   "id": "27e5d3fe",
   "metadata": {},
   "outputs": [
    {
     "name": "stdout",
     "output_type": "stream",
     "text": [
      "Collecting psycopg2\n",
      "  Using cached psycopg2-2.9.5.tar.gz (384 kB)\n",
      "Building wheels for collected packages: psycopg2\n",
      "  Building wheel for psycopg2 (setup.py) ... \u001b[?25ldone\n",
      "\u001b[?25h  Created wheel for psycopg2: filename=psycopg2-2.9.5-cp38-cp38-macosx_10_9_x86_64.whl size=144570 sha256=c8863b5b961216d690631d8e68c29bcc6a8670d2b634872336fca69b0191c593\n",
      "  Stored in directory: /Users/chenyuli/Library/Caches/pip/wheels/ae/51/cd/0096c52b03b32a5ffea19b70f2c56c905b5d30774229808041\n",
      "Successfully built psycopg2\n",
      "Installing collected packages: psycopg2\n",
      "Successfully installed psycopg2-2.9.5\n"
     ]
    }
   ],
   "source": [
    "!pip install psycopg2"
   ]
  },
  {
   "cell_type": "code",
   "execution_count": 43,
   "id": "6eaa1333",
   "metadata": {},
   "outputs": [],
   "source": [
    "# Connect to an existing database\n",
    "connection = psycopg2.connect(database=\"mimic\",\n",
    "                        host=\"::1\",\n",
    "                        user=\"postgres\",\n",
    "                        password=\"05170029LCy\",\n",
    "                        port=\"5432\")\n",
    "\n",
    "# Create a cursor to perform database operations\n",
    "cursor = connection.cursor()\n",
    "\n",
    "# search all Discharge summary report\n",
    "sql = '''   SELECT row_id, subject_id, hadm_id, text\n",
    "            from mimiciii.noteevents\n",
    "            where category = 'Discharge summary'\n",
    "            and description = 'Report'\n",
    "            ORDER BY RANDOM()\n",
    "            OFFSET 1117\n",
    "            LIMIT 200\n",
    "\n",
    "    '''\n",
    "cursor.execute(sql)\n",
    "Rand200 = cursor.fetchall()\n"
   ]
  },
  {
   "cell_type": "code",
   "execution_count": 44,
   "id": "16a12b4e",
   "metadata": {},
   "outputs": [],
   "source": [
    "# Rand200"
   ]
  },
  {
   "cell_type": "code",
   "execution_count": 45,
   "id": "3ce47673",
   "metadata": {},
   "outputs": [],
   "source": [
    "import csv\n",
    "csvfile =\"Rand200Notes.csv\"\n",
    "# Continue only if there are rows returned.\n",
    "rows = cursor.fetchall()\n",
    "fp = open(csvfile, 'w')\n",
    "myFile = csv.writer(fp)\n",
    "myFile.writerows(Rand200)\n",
    "fp.close()\n",
    "\n",
    "# c = csv.writer(open(\"Rand200Notes.csv\",\"w+\"))\n",
    "# c.writerows(Rand200)"
   ]
  },
  {
   "cell_type": "code",
   "execution_count": 63,
   "id": "22fb59e5",
   "metadata": {},
   "outputs": [],
   "source": [
    "try:\n",
    "    # Connect to an existing database\n",
    "    connection = psycopg2.connect(database=\"mimic\",\n",
    "                            host=\"::1\",\n",
    "                            user=\"postgres\",\n",
    "                            password=\"05170029LCy\",\n",
    "                            port=\"5432\")\n",
    "    \n",
    "    # Create a cursor to perform database operations\n",
    "    cursor = connection.cursor()\n",
    "    \n",
    "    # search all Discharge summary report\n",
    "    sql = '''   SELECT row_id, subject_id, hadm_id, text\n",
    "                from mimiciii.noteevents\n",
    "                where category = 'Discharge summary'\n",
    "                and description = 'Report'\n",
    "               \n",
    "        '''\n",
    "    cursor.execute(sql)\n",
    "#     print(cursor.fetchall())\n",
    "#     text = cursor.fetchall()\n",
    "except:\n",
    "    print(\"error\")"
   ]
  },
  {
   "cell_type": "code",
   "execution_count": 66,
   "id": "23176415",
   "metadata": {},
   "outputs": [],
   "source": [
    "\n",
    "RecordIDList = []\n",
    "with open('TryWriteDataV2.txt', 'w+') as f:\n",
    "    All_doc = []\n",
    "    \n",
    "    AllInfo = len(cursor.fetchall())\n",
    "#     print(AllInfo)\n",
    "    cursor.execute(sql)\n",
    "    for i in range(AllInfo):\n",
    "        try:\n",
    "            line = [cursor.fetchone()]\n",
    "#             print(line[0][0])\n",
    "            All_doc.append(line)\n",
    "    #         print(\"line\",line[0][3])\n",
    "            f.writelines(\"\\n\")\n",
    "            f.writelines(str(\"<DOC>\"))\n",
    "            f.writelines(\"\\n\")\n",
    "            f.writelines(\"<DOCNO> \"+str(line[0][0])+' </DOCNO>')    \n",
    "            f.writelines(\"\\n\")\n",
    "            f.writelines(\"<TEXT>\")\n",
    "            f.writelines(\"\\n\")\n",
    "            f.writelines(str(line[0][3]))\n",
    "            f.writelines(\"\\n\")\n",
    "            f.writelines(\"</TEXT>\")\n",
    "            f.writelines(\"\\n\")\n",
    "            f.writelines(\"</DOC>\")\n",
    "            RecordIDList.append(line[0][0:3])\n",
    "        except:\n",
    "            print(\"error\")"
   ]
  },
  {
   "cell_type": "code",
   "execution_count": 67,
   "id": "36e5da4a",
   "metadata": {},
   "outputs": [
    {
     "data": {
      "text/plain": [
       "55177"
      ]
     },
     "execution_count": 67,
     "metadata": {},
     "output_type": "execute_result"
    }
   ],
   "source": [
    "len(All_doc)"
   ]
  },
  {
   "cell_type": "code",
   "execution_count": 68,
   "id": "21939c92",
   "metadata": {},
   "outputs": [],
   "source": [
    "import pandas as pd    \n",
    "df = pd.DataFrame(RecordIDList)\n",
    "df.to_csv('rowIdSubIdMappping.csv', index=False)"
   ]
  }
 ],
 "metadata": {
  "kernelspec": {
   "display_name": "Python 3 (ipykernel)",
   "language": "python",
   "name": "python3"
  },
  "language_info": {
   "codemirror_mode": {
    "name": "ipython",
    "version": 3
   },
   "file_extension": ".py",
   "mimetype": "text/x-python",
   "name": "python",
   "nbconvert_exporter": "python",
   "pygments_lexer": "ipython3",
   "version": "3.9.7"
  }
 },
 "nbformat": 4,
 "nbformat_minor": 5
}
